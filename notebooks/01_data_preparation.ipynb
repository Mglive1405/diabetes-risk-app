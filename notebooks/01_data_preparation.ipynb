{
 "cells": [
  {
   "cell_type": "code",
   "execution_count": 1,
   "id": "a1d3b079",
   "metadata": {},
   "outputs": [
    {
     "name": "stdout",
     "output_type": "stream",
     "text": [
      "PIMA shape: (768, 9)\n",
      "Germany shape: (2000, 9)\n"
     ]
    }
   ],
   "source": [
    "# 1. Import libraries\n",
    "import pandas as pd\n",
    "import numpy as np\n",
    "\n",
    "# 2. Load datasets\n",
    "pima_path = '../data/raw/pima.csv'\n",
    "germany_path = '../data/raw/germany.csv'\n",
    "\n",
    "pima = pd.read_csv(pima_path)\n",
    "germany = pd.read_csv(germany_path)\n",
    "\n",
    "print(\"PIMA shape:\", pima.shape)\n",
    "print(\"Germany shape:\", germany.shape)"
   ]
  },
  {
   "cell_type": "code",
   "execution_count": 7,
   "id": "79831c39",
   "metadata": {},
   "outputs": [
    {
     "name": "stdout",
     "output_type": "stream",
     "text": [
      "PIMA columns: ['Pregnancies', 'Glucose', 'BloodPressure', 'SkinThickness', 'Insulin', 'BMI', 'DiabetesPedigreeFunction', 'Age', 'Outcome']\n",
      "Germany columns: ['Pregnancies', 'Glucose', 'BloodPressure', 'SkinThickness', 'Insulin', 'BMI', 'DiabetesPedigreeFunction', 'Age', 'Outcome']\n"
     ]
    }
   ],
   "source": [
    "# 3. Standardize column names\n",
    "pima.columns = ['Pregnancies', 'Glucose', 'BloodPressure', 'SkinThickness',\n",
    "                'Insulin', 'BMI', 'DiabetesPedigreeFunction', 'Age', 'Outcome']\n",
    "\n",
    "germany.columns = ['Pregnancies', 'Glucose', 'BloodPressure', 'SkinThickness', \n",
    "                   'Insulin', 'BMI', 'DiabetesPedigreeFunction', 'Age', 'Outcome']\n",
    "\n",
    "print(\"PIMA columns:\", pima.columns.tolist())\n",
    "print(\"Germany columns:\", germany.columns.tolist())"
   ]
  },
  {
   "cell_type": "code",
   "execution_count": 8,
   "metadata": {},
   "outputs": [
    {
     "name": "stdout",
     "output_type": "stream",
     "text": [
      "Combined shape: (2768, 9)\n"
     ]
    }
   ],
   "source": [
    "# 4. Combine datasets\n",
    "combined = pd.concat([pima, germany], ignore_index=True)\n",
    "print(\"Combined shape:\", combined.shape)"
   ]
  },
  {
   "cell_type": "code",
   "execution_count": 9,
   "id": "15dde287",
   "metadata": {},
   "outputs": [],
   "source": [
    "# 5. Basic cleaning\n",
    "# Replace zeros in non-logical fields (except Pregnancies and Outcome)\n",
    "zero_cols = ['Glucose', 'BloodPressure', 'SkinThickness', 'Insulin', 'BMI']\n",
    "\n",
    "for col in zero_cols:\n",
    "    combined[col] = combined[col].replace(0, np.nan)\n",
    "\n",
    "# Impute missing values with median\n",
    "combined.fillna(combined.median(), inplace=True)"
   ]
  },
  {
   "cell_type": "code",
   "execution_count": 10,
   "id": "f0d99194",
   "metadata": {},
   "outputs": [
    {
     "name": "stdout",
     "output_type": "stream",
     "text": [
      "✅ Cleaned dataset saved to: ../data/processed/diabetes_combined.csv\n"
     ]
    }
   ],
   "source": [
    "# 6. Save the cleaned dataset\n",
    "output_path = '../data/processed/diabetes_combined.csv'\n",
    "combined.to_csv(output_path, index=False)\n",
    "\n",
    "print(\"✅ Cleaned dataset saved to:\", output_path)"
   ]
  },
  {
   "cell_type": "code",
   "execution_count": 11,
   "id": "5db22d0a",
   "metadata": {},
   "outputs": [
    {
     "name": "stdout",
     "output_type": "stream",
     "text": [
      "Pregnancies                 0\n",
      "Glucose                     0\n",
      "BloodPressure               0\n",
      "SkinThickness               0\n",
      "Insulin                     0\n",
      "BMI                         0\n",
      "DiabetesPedigreeFunction    0\n",
      "Age                         0\n",
      "Outcome                     0\n",
      "dtype: int64\n"
     ]
    }
   ],
   "source": [
    "print(combined.isnull().sum())"
   ]
  }
 ],
 "metadata": {
  "kernelspec": {
   "display_name": "venv",
   "language": "python",
   "name": "python3"
  },
  "language_info": {
   "codemirror_mode": {
    "name": "ipython",
    "version": 3
   },
   "file_extension": ".py",
   "mimetype": "text/x-python",
   "name": "python",
   "nbconvert_exporter": "python",
   "pygments_lexer": "ipython3",
   "version": "3.12.3"
  }
 },
 "nbformat": 4,
 "nbformat_minor": 5
}
